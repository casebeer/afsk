{
 "cells": [
  {
   "cell_type": "code",
   "execution_count": 1,
   "metadata": {},
   "outputs": [],
   "source": [
    "import logging\n",
    "logging.basicConfig(level=logging.DEBUG)\n",
    "\n",
    "from afsk.ax25 import FCS\n",
    "from bitarray import bitarray\n",
    "\n",
    "import crc16\n",
    "import struct\n",
    "\n",
    "bs_header = '\\x82\\xa0\\xa4\\xa6@@`\\x88\\xaa\\x9a\\x9a\\xb2@`\\xae\\x92\\x88\\x8ab@b\\xae\\x92\\x88\\x8ad@c\\x03\\xf0'\n",
    "bs_packet = '\\x82\\xa0\\xa4\\xa6@@`\\x88\\xaa\\x9a\\x9a\\xb2@`\\xae\\x92\\x88\\x8ab@b\\xae\\x92\\x88\\x8ad@c\\x03\\xf0:Test\\xf5g'\n",
    "\n",
    "unstuffed_body = '01000001000001010010010101100101000000100000001000000110000100010101010101011001010110010100110100000010000001100111010101001001000100010101000101000110000000100100011001110101010010010001000101010001001001100000001011000110110000000000111101011100001010101010011011001110001011101111101111110011'\n",
    "stuffed_body = '0100000100000101001001010110010100000010000000100000011000010001010101010101100101011001010011010000001000000110011101010100100100010001010100010100011000000010010001100111010101001001000100010101000100100110000000101100011011000000000011110101110000101010101001101100111000101110111110011111010011'"
   ]
  },
  {
   "cell_type": "code",
   "execution_count": 2,
   "metadata": {},
   "outputs": [],
   "source": [
    "fcs = FCS()"
   ]
  },
  {
   "cell_type": "code",
   "execution_count": 3,
   "metadata": {},
   "outputs": [],
   "source": [
    "str_bytes = b'aaaaaaaaaaaaaaaaaaaaaaaaaaaaaaaaaaaaaaaaaaaaaaaaaaaaaa'\n",
    "bits = bitarray()\n",
    "bits.frombytes(str_bytes)"
   ]
  },
  {
   "cell_type": "code",
   "execution_count": 4,
   "metadata": {},
   "outputs": [],
   "source": [
    "for bit in bits:\n",
    "\tfcs.update_bit(bit)"
   ]
  },
  {
   "cell_type": "code",
   "execution_count": 5,
   "metadata": {},
   "outputs": [],
   "source": [
    "assert fcs.digest() == b'[\\x07'"
   ]
  },
  {
   "cell_type": "code",
   "execution_count": 6,
   "metadata": {},
   "outputs": [
    {
     "name": "stdout",
     "output_type": "stream",
     "text": [
      "calcbytes\n",
      "b'[\\x07'\n"
     ]
    }
   ],
   "source": [
    "print (\"calcbytes\")\n",
    "print (\"%r\" % fcs.digest())"
   ]
  },
  {
   "cell_type": "code",
   "execution_count": 7,
   "metadata": {},
   "outputs": [],
   "source": [
    "digest = bitarray(endian=\"little\")\n",
    "digest.frombytes(fcs.digest())\n",
    "assert digest == bitarray('1101101011100000')"
   ]
  },
  {
   "cell_type": "code",
   "execution_count": null,
   "metadata": {},
   "outputs": [],
   "source": []
  }
 ],
 "metadata": {
  "kernelspec": {
   "display_name": "Python 3",
   "language": "python",
   "name": "python3"
  },
  "language_info": {
   "codemirror_mode": {
    "name": "ipython",
    "version": 3
   },
   "file_extension": ".py",
   "mimetype": "text/x-python",
   "name": "python",
   "nbconvert_exporter": "python",
   "pygments_lexer": "ipython3",
   "version": "3.7.3"
  }
 },
 "nbformat": 4,
 "nbformat_minor": 2
}
