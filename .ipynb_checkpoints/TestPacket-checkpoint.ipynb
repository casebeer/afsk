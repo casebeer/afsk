{
 "cells": [
  {
   "cell_type": "code",
   "execution_count": 1,
   "metadata": {},
   "outputs": [],
   "source": [
    "import logging\n",
    "logging.basicConfig(level=logging.DEBUG)\n",
    "\n",
    "from afsk.ax25 import UI\n",
    "from bitarray import bitarray\n",
    "\n",
    "import crc16\n",
    "import struct\n",
    "\n",
    "bs_header = '\\x82\\xa0\\xa4\\xa6@@`\\x88\\xaa\\x9a\\x9a\\xb2@`\\xae\\x92\\x88\\x8ab@b\\xae\\x92\\x88\\x8ad@c\\x03\\xf0'\n",
    "bs_packet = '\\x82\\xa0\\xa4\\xa6@@`\\x88\\xaa\\x9a\\x9a\\xb2@`\\xae\\x92\\x88\\x8ab@b\\xae\\x92\\x88\\x8ad@c\\x03\\xf0:Test\\xf5g'\n",
    "\n",
    "unstuffed_body = '01000001000001010010010101100101000000100000001000000110000100010101010101011001010110010100110100000010000001100111010101001001000100010101000101000110000000100100011001110101010010010001000101010001001001100000001011000110110000000000111101011100001010101010011011001110001011101111101111110011'\n",
    "stuffed_body   = '0100000100000101001001010110010100000010000000100000011000010001010101010101100101011001010011010000001000000110011101010100100100010001010100010100011000000010010001100111010101001001000100010101000100100110000000101100011011000000000011110101110000101010101001101100111000101110111110011111010011'\n",
    "expected_bytes = b'~\\x82\\xa0\\xa4\\xa6@@`\\x88\\xaa\\x9a\\x9a\\xb2@`\\xae\\x92\\x88\\x8ab@b\\xae\\x92\\x88\\x8ad@c\\x03\\xf0:Test\\x9f/\\xfb\\x01'\n",
    "#expected_bits = bitarray.bitarray('01111110010000010000010100100101011001010000001000000010000001100001000101010101010110010101100101001101000000100000011001110101010010010001000101010001010001100000001001000110011101010100100100010001010100010010011000000010110001101100000000001111010111000010101010100110110011100010111011111001111101001101111110')"
   ]
  },
  {
   "cell_type": "code",
   "execution_count": 2,
   "metadata": {},
   "outputs": [],
   "source": [
    "packet = UI(\"APRS\", \"DUMMY\", info=\":Test\")"
   ]
  },
  {
   "cell_type": "code",
   "execution_count": 3,
   "metadata": {},
   "outputs": [
    {
     "name": "stderr",
     "output_type": "stream",
     "text": [
      "DEBUG:afsk.ax25:Stuffing bit\n",
      "DEBUG:afsk.ax25:Stuffing bit\n"
     ]
    }
   ],
   "source": [
    "generated_bits = packet.unparse()"
   ]
  },
  {
   "cell_type": "code",
   "execution_count": 4,
   "metadata": {},
   "outputs": [],
   "source": [
    "generated_bytes = generated_bits.tobytes()"
   ]
  },
  {
   "cell_type": "code",
   "execution_count": 5,
   "metadata": {},
   "outputs": [
    {
     "name": "stdout",
     "output_type": "stream",
     "text": [
      "Unstuffed body BA:\n",
      "01000001000001010010010101100101000000100000001000000110000100010101010101011001010110010100110100000010000001100111010101001001000100010101000101000110000000100100011001110101010010010001000101010001001001100000001011000110110000000000111101011100001010101010011011001110001011101111101111110011\n"
     ]
    }
   ],
   "source": [
    "print (\"Unstuffed body BA:\\n%s\" % unstuffed_body)"
   ]
  },
  {
   "cell_type": "code",
   "execution_count": 6,
   "metadata": {},
   "outputs": [
    {
     "name": "stdout",
     "output_type": "stream",
     "text": [
      "checksummed_content_bits:\n",
      "b'\\x82\\xa0\\xa4\\xa6@@`\\x88\\xaa\\x9a\\x9a\\xb2@`\\xae\\x92\\x88\\x8ab@b\\xae\\x92\\x88\\x8ad@c\\x03\\xf0' ':Test'\n"
     ]
    }
   ],
   "source": [
    "print (\"checksummed_content_bits:\\n%r %r\" % (packet.header(), packet.info))"
   ]
  },
  {
   "cell_type": "code",
   "execution_count": 7,
   "metadata": {},
   "outputs": [
    {
     "name": "stdout",
     "output_type": "stream",
     "text": [
      "BS PACKET:\n",
      "'\\x82\\xa0¤¦@@`\\x88ª\\x9a\\x9a²@`®\\x92\\x88\\x8ab@b®\\x92\\x88\\x8ad@c\\x03ð:Testõg'\n"
     ]
    }
   ],
   "source": [
    "print (\"BS PACKET:\\n%r\" % (bs_packet))"
   ]
  },
  {
   "cell_type": "code",
   "execution_count": 8,
   "metadata": {},
   "outputs": [
    {
     "name": "stdout",
     "output_type": "stream",
     "text": [
      "Packet:\n",
      "DUMMY>APRS,WIDE1-1,WIDE2-1::Test\n",
      "b'~\\x82\\xa0\\xa4\\xa6@@`\\x88\\xaa\\x9a\\x9a\\xb2@`\\xae\\x92\\x88\\x8ab@b\\xae\\x92\\x88\\x8ad@c\\x03\\xf0:Test\\xdf\\xcf'\n",
      "Header:\n",
      "b'\\x82\\xa0\\xa4\\xa6@@`\\x88\\xaa\\x9a\\x9a\\xb2@`\\xae\\x92\\x88\\x8ab@b\\xae\\x92\\x88\\x8ad@c\\x03\\xf0'\n"
     ]
    }
   ],
   "source": [
    "print (\"Packet:\\n%s\\n%r\\nHeader:\\n%r\" % (packet, packet.packet(), packet.header()))"
   ]
  },
  {
   "cell_type": "code",
   "execution_count": 9,
   "metadata": {},
   "outputs": [
    {
     "name": "stdout",
     "output_type": "stream",
     "text": [
      "BS HEADER:\n",
      "'\\x82\\xa0¤¦@@`\\x88ª\\x9a\\x9a²@`®\\x92\\x88\\x8ab@b®\\x92\\x88\\x8ad@c\\x03ð'\n"
     ]
    }
   ],
   "source": [
    "print (\"BS HEADER:\\n%r\" % (bs_header))"
   ]
  },
  {
   "cell_type": "code",
   "execution_count": 10,
   "metadata": {},
   "outputs": [
    {
     "name": "stdout",
     "output_type": "stream",
     "text": [
      "Generated:\n",
      "b'~\\x82\\xa0\\xa4\\xa6@@`\\x88\\xaa\\x9a\\x9a\\xb2@`\\xae\\x92\\x88\\x8ab@b\\xae\\x92\\x88\\x8ad@c\\x03\\xf0:Test\\x9f/\\xfb\\x01'\n",
      "Expected:\n",
      "b'~\\x82\\xa0\\xa4\\xa6@@`\\x88\\xaa\\x9a\\x9a\\xb2@`\\xae\\x92\\x88\\x8ab@b\\xae\\x92\\x88\\x8ad@c\\x03\\xf0:Test\\x9f/\\xfb\\x01'\n"
     ]
    }
   ],
   "source": [
    "print (\"Generated:\\n%r\\nExpected:\\n%r\" % (generated_bytes, expected_bytes))"
   ]
  },
  {
   "cell_type": "code",
   "execution_count": 11,
   "metadata": {},
   "outputs": [],
   "source": [
    "#assert generated_bits == expected_bits\n",
    "assert generated_bytes == expected_bytes"
   ]
  },
  {
   "cell_type": "code",
   "execution_count": null,
   "metadata": {},
   "outputs": [],
   "source": []
  }
 ],
 "metadata": {
  "kernelspec": {
   "display_name": "Python 3",
   "language": "python",
   "name": "python3"
  },
  "language_info": {
   "codemirror_mode": {
    "name": "ipython",
    "version": 3
   },
   "file_extension": ".py",
   "mimetype": "text/x-python",
   "name": "python",
   "nbconvert_exporter": "python",
   "pygments_lexer": "ipython3",
   "version": "3.7.3"
  }
 },
 "nbformat": 4,
 "nbformat_minor": 2
}
